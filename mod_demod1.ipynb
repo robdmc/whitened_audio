{
 "cells": [
  {
   "cell_type": "code",
   "execution_count": null,
   "id": "85eca7e9-e8e1-49ec-8224-bbd0a4b71d79",
   "metadata": {},
   "outputs": [],
   "source": [
    "import numpy as np\n",
    "import soundfile as sf\n",
    "import pandas as pd\n",
    "import easier as ezr\n",
    "from IPython.display import Audio\n",
    "import holoviews as hv\n",
    "from scipy.signal import correlate, correlation_lags\n",
    "from pandashells.lib.lomb_scargle_lib import lomb_scargle\n",
    "hv.extension('bokeh')"
   ]
  },
  {
   "cell_type": "code",
   "execution_count": null,
   "id": "057ab391-e9c3-4413-b8c5-f100f354102c",
   "metadata": {},
   "outputs": [],
   "source": [
    "%opts Curve [width=800 height=400]"
   ]
  },
  {
   "cell_type": "code",
   "execution_count": null,
   "id": "80b1e087-9722-4552-8581-aafa9ab078fe",
   "metadata": {},
   "outputs": [],
   "source": [
    "def spread(y, delays, dt=1, inverse=False):\n",
    "    \"\"\"\n",
    "    y: numpy array of input data\n",
    "    delays: iterable of delay values\n",
    "    dt: time beteween samples (1 / sample_rate)\n",
    "    \"\"\"\n",
    "    if not hasattr(delays, '__iter__'):\n",
    "        raise ValueError('delays argument must be iterable')\n",
    "    \n",
    "    # Create an array of frequencies that fft will generate\n",
    "    f = np.fft.fftfreq(len(y), d=dt)\n",
    "    \n",
    "    phase_arrays = [np.ones_like(f)]\n",
    "    for delay in delays:\n",
    "        phase_arrays.append(\n",
    "            np.exp(-2j * np.pi * delay * f)\n",
    "        )\n",
    "    \n",
    "    # Create a phase matrix that has size = (num_delays, len(y))\n",
    "    phi_matrix = np.stack(phase_arrays, axis=0)\n",
    "    # phi_matrix = phi_matrix / np.sqrt(len(delays))\n",
    "    phi_matrix = phi_matrix / len(delays)\n",
    "    \n",
    "    # Create the series to convolve with\n",
    "    phi = np.sum(phi_matrix, axis=0).flatten()\n",
    "    \n",
    "    \n",
    "    # Take the fft of the input\n",
    "    Y = np.fft.fft(y)\n",
    "    \n",
    "    # (de)convolve\n",
    "    if inverse:\n",
    "        Y_out = Y / phi\n",
    "    else:\n",
    "        Y_out = phi * Y\n",
    "    \n",
    "    # Convert back to time domain\n",
    "    y_out = np.fft.ifft(Y_out).real\n",
    "    \n",
    "    # y_out = y_out / np.max(np.abs(y_out))\n",
    "    \n",
    "    return y_out"
   ]
  },
  {
   "cell_type": "code",
   "execution_count": null,
   "id": "0c198415-8059-48eb-b43e-e0d8db727f98",
   "metadata": {},
   "outputs": [],
   "source": [
    "path = './data/websdr_recording_2022-09-27T00_17_15Z_7160.6kHz.wav'\n",
    "# path = './1919-142785-0010.flac'                                                  \n",
    "noise, samplerate_noise = sf.read(path)   \n",
    "samplerate_noise_interp = 2 * samplerate_noise\n",
    "\n",
    "noise = noise - np.mean(noise)\n",
    "noise = noise / np.std(noise)\n",
    "dt_noise = np.round(1 / samplerate_noise, 7)\n",
    "t_noise = dt_noise * np.arange(len(noise))\n",
    "t_noise_interp = .5 * dt_noise  * np.arange(len(noise) * 2)\n",
    "noise_interp = np.interp(t_noise_interp, t_noise, noise)"
   ]
  },
  {
   "cell_type": "code",
   "execution_count": null,
   "id": "0e4f4f90-c937-4843-8cc5-da630ca4a195",
   "metadata": {},
   "outputs": [],
   "source": [
    "Audio(noise_interp, rate=samplerate_noise_interp)"
   ]
  },
  {
   "cell_type": "code",
   "execution_count": null,
   "id": "136fd141-e79f-48e8-9f0c-b47fc8c926f5",
   "metadata": {},
   "outputs": [],
   "source": [
    "path = './data/LibriSpeech/dev-clean/1272/128104/1272-128104-0009.flac'\n",
    "# path = './1919-142785-0010.flac'                                                  \n",
    "data, samplerate = sf.read(path)   \n",
    "\n",
    "data = data - np.mean(data)\n",
    "# data = data / np.std(data)\n",
    "data = data / np.max(np.abs(data))\n",
    "dt = np.round(1 / samplerate, 7)\n",
    "t = dt * np.arange(len(data))\n"
   ]
  },
  {
   "cell_type": "code",
   "execution_count": null,
   "id": "0076685f-c1e6-4fbd-a6d6-a88c16164052",
   "metadata": {},
   "outputs": [],
   "source": [
    "Audio(data, rate=samplerate)"
   ]
  },
  {
   "cell_type": "code",
   "execution_count": null,
   "id": "5fe8c90d-d697-4e24-be0c-f1a50183ebf9",
   "metadata": {},
   "outputs": [],
   "source": [
    "num_lags = 5\n",
    "base_lag_index = 2*1600  #1600=.1\n",
    "base_lag_time = dt * base_lag_index\n",
    "pad_len = num_lags * base_lag_index\n",
    "\n",
    "delays = base_lag_time * np.arange(1, num_lags + 1)\n",
    "delays = base_lag_time * np.array([1, 3, 5, 7, 11, 13, 17])\n",
    "\n",
    "# ###\n",
    "# data = np.zeros_like(data)\n",
    "# data[len(data) // 2] = 1\n",
    "# #####\n",
    "\n",
    "data_pad = np.concatenate([data, np.zeros(pad_len)])\n",
    "t_pad = dt * np.arange(len(data_pad))\n",
    "sig = spread(data_pad, dt=dt, delays=delays)\n",
    "sig = sig / np.max(np.abs(sig))\n",
    "recovered = spread(sig, dt=dt, delays=delays, inverse=True)\n"
   ]
  },
  {
   "cell_type": "code",
   "execution_count": null,
   "id": "f100f221-38fe-48a6-962c-74760ad6b8ef",
   "metadata": {},
   "outputs": [],
   "source": [
    "c_data = hv.Curve((t_pad, data_pad), label='data').options(color=ezr.cc[0], alpha=.5)\n",
    "c_sig = hv.Curve((t_pad, sig), label='signal').options(color=ezr.cc[1], alpha=.5)\n",
    "c_rec = hv.Curve((t_pad, recovered), label='recovered').options(color=ezr.cc[2], alpha=.5)\n",
    "c_data * c_sig #* c_rec"
   ]
  },
  {
   "cell_type": "code",
   "execution_count": null,
   "id": "9e1610d1-ac56-4541-8a23-3ef30f63d373",
   "metadata": {},
   "outputs": [],
   "source": [
    "Audio(data_pad, rate=samplerate)"
   ]
  },
  {
   "cell_type": "code",
   "execution_count": null,
   "id": "d2bdf69a-fa82-4dbb-93de-0b535c2e7382",
   "metadata": {},
   "outputs": [],
   "source": [
    "Audio(sig, rate=samplerate)"
   ]
  },
  {
   "cell_type": "code",
   "execution_count": null,
   "id": "265f7bff-f349-4a9c-ab00-e6f3f2ee0569",
   "metadata": {},
   "outputs": [],
   "source": [
    "noise_amplitude = .1\n",
    "\n",
    "\n",
    "\n",
    "noisy_data = data + noise_amplitude * noise_interp[:len(data)]\n",
    "noisy_signal = sig + noise_amplitude * noise_interp[:len(sig)]\n",
    "recovered_noisy_data = spread(noisy_signal, dt=dt, delays=delays, inverse=True)\n",
    "t_noise_interp = t_noise_interp[:len(noisy_data)]\n",
    "recovered_noisy_data = recovered_noisy_data[:len(noisy_data)]\n"
   ]
  },
  {
   "cell_type": "code",
   "execution_count": null,
   "id": "d76c8f13-4316-4319-8e4a-73728fb5a4fb",
   "metadata": {},
   "outputs": [],
   "source": [
    "Audio(noisy_data, rate=samplerate)"
   ]
  },
  {
   "cell_type": "code",
   "execution_count": null,
   "id": "4d5c70db-2c14-403f-a8d5-4a8b03b72af9",
   "metadata": {},
   "outputs": [],
   "source": [
    "Audio(recovered_noisy_data, rate=samplerate)"
   ]
  },
  {
   "cell_type": "code",
   "execution_count": null,
   "id": "cb0616fc-186b-48b4-bcf3-c7cb16b0131e",
   "metadata": {},
   "outputs": [],
   "source": [
    "noisy_data.shape, t_noise_interp.shape"
   ]
  },
  {
   "cell_type": "code",
   "execution_count": null,
   "id": "4ba06d2f-d56f-4a1d-a403-6b031d5a907c",
   "metadata": {},
   "outputs": [],
   "source": [
    "c_data = hv.Curve((t_noise_interp, noisy_data), label='data').options(color=ezr.cc[0], alpha=.5)\n",
    "c_sig = hv.Curve((t_pad, sig), label='signal').options(color=ezr.cc[2], alpha=.5)\n",
    "c_rec = hv.Curve((t_noise_interp, recovered_noisy_data), label='recovered').options(color=ezr.cc[1], alpha=.5)\n",
    "c_data * c_rec\n",
    "# c_data"
   ]
  },
  {
   "cell_type": "code",
   "execution_count": null,
   "id": "229e8d27-1c62-4130-87fa-adc416944bee",
   "metadata": {},
   "outputs": [],
   "source": [
    "recovered_noisy_data.shape"
   ]
  },
  {
   "cell_type": "code",
   "execution_count": null,
   "id": "4eee5966-e667-47ef-9804-5c8fe5be8997",
   "metadata": {},
   "outputs": [],
   "source": []
  },
  {
   "cell_type": "code",
   "execution_count": null,
   "id": "e11c39ef-4334-4fb6-80f3-8ebfb1448a02",
   "metadata": {},
   "outputs": [],
   "source": []
  },
  {
   "cell_type": "code",
   "execution_count": null,
   "id": "a1ab82c7-e8d3-4ba5-8789-bd3831810287",
   "metadata": {},
   "outputs": [],
   "source": []
  }
 ],
 "metadata": {
  "kernelspec": {
   "display_name": "Python 3 (ipykernel)",
   "language": "python",
   "name": "python3"
  },
  "language_info": {
   "codemirror_mode": {
    "name": "ipython",
    "version": 3
   },
   "file_extension": ".py",
   "mimetype": "text/x-python",
   "name": "python",
   "nbconvert_exporter": "python",
   "pygments_lexer": "ipython3",
   "version": "3.9.13"
  }
 },
 "nbformat": 4,
 "nbformat_minor": 5
}
